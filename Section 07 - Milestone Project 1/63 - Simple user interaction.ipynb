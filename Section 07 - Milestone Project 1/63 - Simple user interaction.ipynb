{
 "cells": [
  {
   "cell_type": "code",
   "execution_count": 1,
   "metadata": {},
   "outputs": [],
   "source": [
    "# following video, building game logic"
   ]
  },
  {
   "cell_type": "code",
   "execution_count": 2,
   "metadata": {},
   "outputs": [],
   "source": [
    "# step 1: display function\n",
    "\n",
    "game_list = [0, 1, 2]\n",
    "\n",
    "def display_game(game_list):\n",
    "    print(\"Current list: \")\n",
    "    print(game_list)"
   ]
  },
  {
   "cell_type": "code",
   "execution_count": 3,
   "metadata": {},
   "outputs": [
    {
     "name": "stdout",
     "output_type": "stream",
     "text": [
      "Current list: \n",
      "[0, 1, 2]\n"
     ]
    }
   ],
   "source": [
    "# testing function\n",
    "display_game(game_list)"
   ]
  },
  {
   "cell_type": "code",
   "execution_count": 4,
   "metadata": {},
   "outputs": [],
   "source": [
    "# step 2: validating the position choice\n",
    "\n",
    "def position_choice():\n",
    "    \n",
    "    choice = \"wrong\"\n",
    "    \n",
    "    while choice not in [\"0\", \"1\", \"2\"]: # we check against a list of strings because input is ALWAYS string\n",
    "        \n",
    "        choice = input(\"Pick a position (0, 1, 2): \")\n",
    "        \n",
    "        if choice not in [\"0\", \"1\", \"2\"]:\n",
    "            print(\"Invalid choice!\")\n",
    "            \n",
    "    return int(choice)"
   ]
  },
  {
   "cell_type": "code",
   "execution_count": 5,
   "metadata": {},
   "outputs": [
    {
     "name": "stdout",
     "output_type": "stream",
     "text": [
      "Pick a position (0, 1, 2): 10\n",
      "Invalid choice!\n",
      "Pick a position (0, 1, 2): 1\n"
     ]
    },
    {
     "data": {
      "text/plain": [
       "1"
      ]
     },
     "execution_count": 5,
     "metadata": {},
     "output_type": "execute_result"
    }
   ],
   "source": [
    "# testing position choice\n",
    "position_choice()"
   ]
  },
  {
   "cell_type": "code",
   "execution_count": 7,
   "metadata": {},
   "outputs": [],
   "source": [
    "# step 3: player choses a replacement value\n",
    "\n",
    "def replacement_choice(game_list, position):\n",
    "\n",
    "    user_placement = input(\"Type a string to place at position: \")\n",
    "    \n",
    "    game_list[position] = user_placement\n",
    "    \n",
    "    return game_list"
   ]
  },
  {
   "cell_type": "code",
   "execution_count": 8,
   "metadata": {},
   "outputs": [
    {
     "name": "stdout",
     "output_type": "stream",
     "text": [
      "Type a string to place at position: test\n"
     ]
    },
    {
     "data": {
      "text/plain": [
       "[0, 'test', 2]"
      ]
     },
     "execution_count": 8,
     "metadata": {},
     "output_type": "execute_result"
    }
   ],
   "source": [
    "# testing replacement\n",
    "replacement_choice(game_list, 1)"
   ]
  },
  {
   "cell_type": "code",
   "execution_count": 9,
   "metadata": {},
   "outputs": [],
   "source": [
    "# step 4: continue playing or not\n",
    "\n",
    "def gameon_choice():\n",
    "    \n",
    "    choice = \"wrong\"\n",
    "    \n",
    "    while choice not in [\"Y\", \"N\"]: \n",
    "        \n",
    "        choice = input(\"Keep playing? (Y or N): \")\n",
    "        \n",
    "        if choice not in [\"Y\", \"N\"]:\n",
    "            print(\"Invalid choice!\")\n",
    "            \n",
    "    if choice == \"Y\":\n",
    "        return True\n",
    "    else:\n",
    "        return False\n",
    "    "
   ]
  },
  {
   "cell_type": "code",
   "execution_count": 10,
   "metadata": {},
   "outputs": [
    {
     "name": "stdout",
     "output_type": "stream",
     "text": [
      "Keep playing? (Y or N): a\n",
      "Invalid choice!\n",
      "Keep playing? (Y or N): l\n",
      "Invalid choice!\n",
      "Keep playing? (Y or N): y\n",
      "Invalid choice!\n",
      "Keep playing? (Y or N): n\n",
      "Invalid choice!\n",
      "Keep playing? (Y or N): N\n"
     ]
    },
    {
     "data": {
      "text/plain": [
       "False"
      ]
     },
     "execution_count": 10,
     "metadata": {},
     "output_type": "execute_result"
    }
   ],
   "source": [
    "# testing continue\n",
    "\n",
    "gameon_choice()"
   ]
  },
  {
   "cell_type": "code",
   "execution_count": 11,
   "metadata": {},
   "outputs": [
    {
     "name": "stdout",
     "output_type": "stream",
     "text": [
      "Current list: \n",
      "[0, 1, 2]\n",
      "Pick a position (0, 1, 2): 3\n",
      "Invalid choice!\n",
      "Pick a position (0, 1, 2): 2\n",
      "Type a string to place at position: hi\n",
      "Current list: \n",
      "[0, 1, 'hi']\n",
      "Keep playing? (Y or N): Y\n",
      "Current list: \n",
      "[0, 1, 'hi']\n",
      "Pick a position (0, 1, 2): 1\n",
      "Type a string to place at position: poot\n",
      "Current list: \n",
      "[0, 'poot', 'hi']\n",
      "Keep playing? (Y or N): N\n"
     ]
    }
   ],
   "source": [
    "# step 5: setting everything up\n",
    "\n",
    "game_on = True\n",
    "game_list = [0, 1, 2]\n",
    "\n",
    "while game_on:\n",
    "    \n",
    "    display_game(game_list)\n",
    "    \n",
    "    position = position_choice()\n",
    "    \n",
    "    game_list = replacement_choice(game_list, position)\n",
    "    \n",
    "    display_game(game_list)\n",
    "    \n",
    "    game_on = gameon_choice()"
   ]
  },
  {
   "cell_type": "code",
   "execution_count": null,
   "metadata": {},
   "outputs": [],
   "source": []
  }
 ],
 "metadata": {
  "kernelspec": {
   "display_name": "Python 3",
   "language": "python",
   "name": "python3"
  },
  "language_info": {
   "codemirror_mode": {
    "name": "ipython",
    "version": 3
   },
   "file_extension": ".py",
   "mimetype": "text/x-python",
   "name": "python",
   "nbconvert_exporter": "python",
   "pygments_lexer": "ipython3",
   "version": "3.7.6"
  }
 },
 "nbformat": 4,
 "nbformat_minor": 4
}
